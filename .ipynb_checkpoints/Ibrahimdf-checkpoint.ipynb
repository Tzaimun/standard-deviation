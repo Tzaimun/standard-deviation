{
 "cells": [
  {
   "cell_type": "markdown",
   "metadata": {},
   "source": [
    "# Standard Deviation"
   ]
  },
  {
   "cell_type": "markdown",
   "metadata": {},
   "source": [
    "## Step 1: mean"
   ]
  },
  {
   "cell_type": "markdown",
   "metadata": {},
   "source": [
    "Take your data (*4.4, 3.7, 5.7, 11.5, 3.2, 67.4, 39.3, 12.9, 3.6, 12.3*) and add everything together, resulting in **164**\n",
    "\n",
    "\n",
    "\n",
    "\n",
    "Now you divide this sum by the amount of elements in the array\n",
    "<!--  -->\n",
    "\n",
    "$$\\frac{sum}{n} = \\frac{164}{10} = 16.4$$\n"
   ]
  },
  {
   "cell_type": "markdown",
   "metadata": {},
   "source": [
    "## Step 2: Variance"
   ]
  },
  {
   "cell_type": "markdown",
   "metadata": {},
   "source": [
    "For every element, calculate the variance. Variance is calculated by subtracting the element by the mean, and then taking the square of this element. In this case this would result in (*144.0, 161.3, 114.5, 24.0, 174.2, 2601.0, 524.4, 12.2, 163.8, 16.8*)"
   ]
  },
  {
   "cell_type": "markdown",
   "metadata": {},
   "source": [
    "## Step 3: Standard Deviation"
   ]
  },
  {
   "cell_type": "markdown",
   "metadata": {},
   "source": [
    "Now add everything together again, resulting in the sum of your variances. Resulting in ~**3936.34**\n",
    "\n",
    "Finally, divide this sum by the amount of elemements in the array -1\n",
    "$$\\frac{sum}{n-1} = \\frac{3936.34}{9} = ~437.37$$\n",
    "\n",
    "All that is left, is to take the square root of this number\n",
    "$$\\sqrt[2]{result} = \\sqrt[2]{437.37} = ~20.9134$$"
   ]
  },
  {
   "cell_type": "code",
   "execution_count": null,
   "metadata": {},
   "outputs": [],
   "source": []
  }
 ],
 "metadata": {
  "kernelspec": {
   "display_name": "Python 3",
   "language": "python",
   "name": "python3"
  },
  "language_info": {
   "codemirror_mode": {
    "name": "ipython",
    "version": 3
   },
   "file_extension": ".py",
   "mimetype": "text/x-python",
   "name": "python",
   "nbconvert_exporter": "python",
   "pygments_lexer": "ipython3",
   "version": "3.8.3"
  }
 },
 "nbformat": 4,
 "nbformat_minor": 4
}
